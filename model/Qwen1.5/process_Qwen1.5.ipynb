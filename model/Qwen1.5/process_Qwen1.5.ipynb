{
 "cells": [
  {
   "cell_type": "code",
   "execution_count": 1,
   "metadata": {},
   "outputs": [],
   "source": [
    "import pandas as pd\n",
    "import json\n",
    "from sklearn.model_selection import train_test_split"
   ]
  },
  {
   "cell_type": "code",
   "execution_count": 7,
   "metadata": {},
   "outputs": [],
   "source": [
    "df = pd.read_csv('./data/processed.csv')\n",
    "df_test = pd.read_csv('./data/processed_test.csv')\n",
    "df_submit = pd.read_csv('./data/submission.csv')\n",
    "feature_info = pd.read_excel('./data/字段说明.xlsx')\n",
    "feature_info = dict(zip(feature_info['名称'], feature_info['标签']))"
   ]
  },
  {
   "cell_type": "code",
   "execution_count": 3,
   "metadata": {},
   "outputs": [],
   "source": [
    "target_corr = []\n",
    "for col in df.columns:\n",
    "    if col != 'bad_good':\n",
    "        target_corr.append((col, abs(df['bad_good'].corr(df[col]))))\n",
    "target_corr.sort(key=lambda item: item[1])\n",
    "cols = [item[0] for item in target_corr[-64: ]]\n",
    "# 取相关性最大的前64列"
   ]
  },
  {
   "cell_type": "code",
   "execution_count": 4,
   "metadata": {},
   "outputs": [],
   "source": [
    "# 定义prompt模板，64列加上prompt每个query最长1279\n",
    "def create_prompt(example):\n",
    "    data = ''\n",
    "    for col in cols:\n",
    "        data += f'{feature_info[col]}：{example[col]}；'\n",
    "    return f\"以下为某银行真实信贷用户信息：\\n{data}\\n请根据这些信息判断该用户信贷是否逾期，仅输出0或1：\"\n",
    "# 保存预处理完成的数据\n",
    "def save_dataset(data, file_path):\n",
    "    with open(file_path, 'w', encoding='utf-8') as f:\n",
    "        for _, example in data.iterrows():\n",
    "            prompt_item = create_prompt(example)\n",
    "            item = {\n",
    "                'query': prompt_item,\n",
    "                'response': str(int(example['bad_good']))\n",
    "            }\n",
    "            f.write(json.dumps(item, ensure_ascii=False) + '\\n')\n",
    "# 采样数据并划分为训练集、验证集\n",
    "def sample_and_split_data(data, sample_size=10000, valid_size=0.1):\n",
    "    sampled_data = data.sample(sample_size)\n",
    "    train_data, valid_data = train_test_split(sampled_data, test_size=valid_size)\n",
    "    return train_data, valid_data\n"
   ]
  },
  {
   "cell_type": "code",
   "execution_count": 33,
   "metadata": {},
   "outputs": [],
   "source": [
    "data = df[cols + ['bad_good']]\n",
    "df_test['bad_good'] = -1\n",
    "test_data = df_test[cols + ['bad_good']]\n",
    "train_data, valid_data = sample_and_split_data(data, sample_size=10000, valid_size=0.1)"
   ]
  },
  {
   "cell_type": "code",
   "execution_count": 38,
   "metadata": {},
   "outputs": [],
   "source": [
    "train_file_path = './data/train_dataset.jsonl'\n",
    "valid_file_path = './data/valid_dataset.jsonl'\n",
    "test_file_path = './data/test_dataset.jsonl'\n",
    "save_dataset(train_data, train_file_path)\n",
    "save_dataset(valid_data, valid_file_path)\n",
    "save_dataset(test_data, test_file_path)"
   ]
  },
  {
   "cell_type": "code",
   "execution_count": 8,
   "metadata": {},
   "outputs": [],
   "source": [
    "# 请在模型微调之后并测试集上得到推理结果后再运行以下单元格\n",
    "df_result = pd.read_json('output/qwen1half-1_8b-chat/v0-20240629-164430/checkpoint-562/infer_result/20240629-175456.jsonl', lines=True)\n",
    "df_pred = pd.DataFrame({'bad_good': df_result['response']})\n",
    "df_pred.insert(0, 'CUST_ID', df_submit['CUST_ID'])"
   ]
  },
  {
   "cell_type": "code",
   "execution_count": 9,
   "metadata": {},
   "outputs": [
    {
     "data": {
      "text/plain": [
       "bad_good\n",
       "0    186690\n",
       "1      3076\n",
       "Name: count, dtype: int64"
      ]
     },
     "execution_count": 9,
     "metadata": {},
     "output_type": "execute_result"
    }
   ],
   "source": [
    "df_pred['bad_good'].value_counts()"
   ]
  },
  {
   "cell_type": "code",
   "execution_count": null,
   "metadata": {},
   "outputs": [],
   "source": [
    "df_pred.to_csv('result_Qwen1.5.csv', mode='w', index=False)"
   ]
  }
 ],
 "metadata": {
  "kernelspec": {
   "display_name": "Python 3",
   "language": "python",
   "name": "python3"
  },
  "language_info": {
   "codemirror_mode": {
    "name": "ipython",
    "version": 3
   },
   "file_extension": ".py",
   "mimetype": "text/x-python",
   "name": "python",
   "nbconvert_exporter": "python",
   "pygments_lexer": "ipython3",
   "version": "3.10.14"
  }
 },
 "nbformat": 4,
 "nbformat_minor": 2
}
