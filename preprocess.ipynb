{
 "cells": [
  {
   "cell_type": "code",
   "execution_count": 2,
   "metadata": {},
   "outputs": [],
   "source": [
    "import matplotlib.pyplot as plt\n",
    "import seaborn as sns\n",
    "import pandas as pd\n",
    "import numpy as np\n",
    "import pickle"
   ]
  },
  {
   "attachments": {},
   "cell_type": "markdown",
   "metadata": {},
   "source": [
    "##### 运行本文件同时预处理训练集和测试集，大约需要 20min 左右"
   ]
  },
  {
   "attachments": {},
   "cell_type": "markdown",
   "metadata": {},
   "source": [
    "### 读取数据"
   ]
  },
  {
   "cell_type": "code",
   "execution_count": 4,
   "metadata": {},
   "outputs": [
    {
     "name": "stderr",
     "output_type": "stream",
     "text": [
      "C:\\Users\\guoxu\\AppData\\Local\\Temp\\ipykernel_24460\\3132276346.py:1: DtypeWarning: Columns (3) have mixed types. Specify dtype option on import or set low_memory=False.\n",
      "  df = pd.read_csv('data/train.csv')\n",
      "C:\\Users\\guoxu\\AppData\\Local\\Temp\\ipykernel_24460\\3132276346.py:2: DtypeWarning: Columns (3) have mixed types. Specify dtype option on import or set low_memory=False.\n",
      "  df_test = pd.read_csv('data/test.csv')\n"
     ]
    },
    {
     "name": "stdout",
     "output_type": "stream",
     "text": [
      "<class 'pandas.core.frame.DataFrame'>\n",
      "RangeIndex: 285285 entries, 0 to 285284\n",
      "Columns: 627 entries, CUST_ID to L6_CHANNEL_TXN_DOUTTA_AVGCNT\n",
      "dtypes: float64(399), int64(196), object(32)\n",
      "memory usage: 1.3+ GB\n",
      "<class 'pandas.core.frame.DataFrame'>\n",
      "RangeIndex: 189766 entries, 0 to 189765\n",
      "Columns: 626 entries, CUST_ID to L6_CHANNEL_TXN_DOUTTA_AVGCNT\n",
      "dtypes: float64(393), int64(201), object(32)\n",
      "memory usage: 906.3+ MB\n"
     ]
    }
   ],
   "source": [
    "df = pd.read_csv('data/train.csv')\n",
    "df_test = pd.read_csv('data/test.csv')\n",
    "df.info()\n",
    "df_test.info()"
   ]
  },
  {
   "cell_type": "code",
   "execution_count": 5,
   "metadata": {},
   "outputs": [
    {
     "data": {
      "text/plain": [
       "bad_good\n",
       "0    280401\n",
       "1      4884\n",
       "Name: count, dtype: int64"
      ]
     },
     "execution_count": 5,
     "metadata": {},
     "output_type": "execute_result"
    }
   ],
   "source": [
    "df['bad_good'].value_counts()\n",
    "# 测试集没有bad_good这一列\n",
    "# 注意这里目标列两类分布极不均匀，57:1"
   ]
  },
  {
   "attachments": {},
   "cell_type": "markdown",
   "metadata": {},
   "source": [
    "### 缺失值处理"
   ]
  },
  {
   "cell_type": "code",
   "execution_count": 6,
   "metadata": {},
   "outputs": [
    {
     "name": "stdout",
     "output_type": "stream",
     "text": [
      "0\n",
      "0\n"
     ]
    }
   ],
   "source": [
    "null_num = 0\n",
    "for col in list(df.columns):\n",
    "    null_num += df[col].isnull().sum()\n",
    "print(null_num)# 总缺失值数量\n",
    "\n",
    "null_num = 0\n",
    "for col in list(df_test.columns):\n",
    "    null_num += df_test[col].isnull().sum()\n",
    "print(null_num)# 测试集总缺失值数量"
   ]
  },
  {
   "attachments": {},
   "cell_type": "markdown",
   "metadata": {},
   "source": [
    "### Object类型数据处理"
   ]
  },
  {
   "cell_type": "code",
   "execution_count": 7,
   "metadata": {},
   "outputs": [
    {
     "name": "stdout",
     "output_type": "stream",
     "text": [
      "32\n",
      "Index(['IDF_TYP_CD', 'GENDER', 'CUST_EUP_ACCT_FLAG', 'CUST_AU_ACCT_FLAG',\n",
      "       'CUST_SALARY_FINANCIAL_FLAG', 'CUST_SOCIAL_SECURITYIC_FLAG',\n",
      "       'CUST_MTFLOW_FLAG', 'CUST_DOLLER_FLAG', 'CUST_INTERNATIONAL_GOLD_FLAG',\n",
      "       'CUST_INTERNATIONAL_COMMON_FLAG', 'CUST_INTERNATIONAL_SIL_FLAG',\n",
      "       'CUST_INTERNATIONAL_DIAMOND_FLAG', 'CUST_GOLD_COMMON_FLAG',\n",
      "       'CUST_STAD_PLATINUM_FLAG', 'CUST_LUXURY_PLATINUM_FLAG',\n",
      "       'CUST_PLATINUM_FINANCIAL_FLAG', 'CUST_DIAMOND_FLAG',\n",
      "       'CUST_INFINIT_FLAG', 'CUST_BUSINESS_FLAG', 'DEP_SA_FLAG', 'DEP_TD_FLAG',\n",
      "       'LOAN_FLAG', 'FUND_FLAG', 'C_FUND_FLAG', 'D_FUND_FLAG', 'S_FUND_FLAG',\n",
      "       'BOND_FLAG', 'CER_BOND_FLAG', 'BK_BOND_FLAG', 'CRED_FLAG',\n",
      "       'RELATED_REPAY_FLAG', 'TOT_REPAY_FLAG'],\n",
      "      dtype='object')\n"
     ]
    }
   ],
   "source": [
    "df_obj = df.select_dtypes('object').columns\n",
    "print(len(df_obj))\n",
    "print(df_obj)"
   ]
  },
  {
   "cell_type": "code",
   "execution_count": 8,
   "metadata": {},
   "outputs": [
    {
     "data": {
      "text/plain": [
       "IDF_TYP_CD\n",
       "ZR01    280187\n",
       "ZR03      1835\n",
       "ZR22       708\n",
       "ZR20       587\n",
       "ZR21       552\n",
       "ZR04       280\n",
       "ZR11       248\n",
       "ZR08       240\n",
       "ZR09       232\n",
       "ZR07       177\n",
       "ZR05        78\n",
       "ZR06        77\n",
       "ZR02        50\n",
       "ZR10        19\n",
       "ZR13         7\n",
       "ZR16         5\n",
       "ZR12         2\n",
       "ZR14         1\n",
       "Name: count, dtype: int64"
      ]
     },
     "execution_count": 8,
     "metadata": {},
     "output_type": "execute_result"
    }
   ],
   "source": [
    "df['IDF_TYP_CD'].value_counts()"
   ]
  },
  {
   "cell_type": "code",
   "execution_count": 9,
   "metadata": {},
   "outputs": [
    {
     "data": {
      "text/plain": [
       "GENDER\n",
       "1    108746\n",
       "2    100150\n",
       "1     38878\n",
       "2     36398\n",
       "X      1113\n",
       "Name: count, dtype: int64"
      ]
     },
     "execution_count": 9,
     "metadata": {},
     "output_type": "execute_result"
    }
   ],
   "source": [
    "df['GENDER'].value_counts()"
   ]
  },
  {
   "cell_type": "code",
   "execution_count": 10,
   "metadata": {},
   "outputs": [
    {
     "data": {
      "text/plain": [
       "TOT_REPAY_FLAG\n",
       "N    244991\n",
       "Y     40294\n",
       "Name: count, dtype: int64"
      ]
     },
     "execution_count": 10,
     "metadata": {},
     "output_type": "execute_result"
    }
   ],
   "source": [
    "df['TOT_REPAY_FLAG'].value_counts()"
   ]
  },
  {
   "cell_type": "code",
   "execution_count": 11,
   "metadata": {},
   "outputs": [],
   "source": [
    "# 将IDF_TYP_CD列提取为后两位数字\n",
    "df['IDF_TYP_CD'] = df['IDF_TYP_CD'].apply(lambda row : int(row[2:]))\n",
    "df_test['IDF_TYP_CD'] = df_test['IDF_TYP_CD'].apply(lambda row : int(row[2:]))\n",
    "\n",
    "# 将gender列中的取值'X'设置为3\n",
    "df['GENDER'] = df['GENDER'].apply(lambda x: 3 if x == 'X' else int(x))\n",
    "df_test['GENDER'] = df_test['GENDER'].apply(lambda x: 3 if x == 'X' else int(x))\n",
    "\n",
    "# 将FLAG类属性列取值转换为0, 1\n",
    "df_obj = df_obj.drop(['IDF_TYP_CD', 'GENDER'])\n",
    "for col in df_obj:\n",
    "    df[col] = df[col].apply(lambda x: 0 if x == 'N' else 1)\n",
    "    df_test[col] = df_test[col].apply(lambda x: 0 if x == 'N' else 1)"
   ]
  },
  {
   "attachments": {},
   "cell_type": "markdown",
   "metadata": {},
   "source": [
    "### 冗余特征处理"
   ]
  },
  {
   "cell_type": "code",
   "execution_count": 12,
   "metadata": {},
   "outputs": [
    {
     "name": "stdout",
     "output_type": "stream",
     "text": [
      "91\n",
      "37\n"
     ]
    }
   ],
   "source": [
    "# 统计取值个数为1或2的属性列(实际上也可以处理个数为3/4/5等的属性列)\n",
    "col_value1 = []\n",
    "col_value2 = []\n",
    "for col in df.columns:\n",
    "    diff_num = len(df[col].value_counts())\n",
    "    if diff_num == 1:\n",
    "        col_value1.append(col)\n",
    "    elif diff_num == 2:\n",
    "        col_value2.append(col)\n",
    "print(len(col_value1))\n",
    "print(len(col_value2))"
   ]
  },
  {
   "cell_type": "code",
   "execution_count": 13,
   "metadata": {},
   "outputs": [
    {
     "name": "stdout",
     "output_type": "stream",
     "text": [
      "bad_good\n",
      "guozhai_flag\n",
      "CHANNEL_TELBANK_FINANCIAL_AMT\n",
      "CHANNEL_TELBANK_FINANCIAL_CNT\n",
      "L3_CHANNEL_TELBANK_FINANCIAL_MON\n",
      "L3_CHANNEL_TELBANK_FINANCIAL_MO0\n",
      "L6_CHANNEL_TELBANK_FINANCIAL_MON\n",
      "L6_CHANNEL_TELBANK_FINANCIAL_MO0\n",
      "L3_CHANNEL_DAY_MSPOS_CREDIT_MAXA\n",
      "L6_CHANNEL_DAY_OTRPOS_CREDIT_MAX\n"
     ]
    }
   ],
   "source": [
    "# 原值非object类型的二值列\n",
    "for col in col_value2:\n",
    "    if col not in df_obj:\n",
    "        print(col)\n",
    "# 逐一查看取值情况，发现：\n",
    "# bad_good  目标列\n",
    "# guozhai_flag  285238: 47\n",
    "# 其余8列取值分布均为 258284: 1(怀疑可能同时出现现在一个样本上，待进一步研究)"
   ]
  },
  {
   "cell_type": "code",
   "execution_count": 14,
   "metadata": {},
   "outputs": [],
   "source": [
    "# 删除无信息的索引列CUST_ID\n",
    "df.drop('CUST_ID', inplace=True, axis=1)\n",
    "df_test.drop('CUST_ID', inplace=True, axis=1)\n",
    "\n",
    "# 删除取值全相同或几乎全相同的列(共99列)\n",
    "to_drop = col_value1\n",
    "for col in col_value2:\n",
    "    if col not in df_obj and col not in ['bad_good', 'guozhai_flag']:\n",
    "        to_drop.append(col)\n",
    "df.drop(to_drop, inplace=True, axis=1)\n",
    "df_test.drop(to_drop, inplace=True, axis=1)"
   ]
  },
  {
   "cell_type": "code",
   "execution_count": 16,
   "metadata": {},
   "outputs": [],
   "source": [
    "# 一次性计算相关系数矩阵并存储，待之后挑选特征使用\n",
    "# cor_matrix = df.corr()\n",
    "# f = open(\"data/cor_matrix.pkl\", 'wb')\n",
    "# pickle.dump(cor_matrix, f)\n",
    "f = open('data/cor_matrix.pkl', 'rb+')\n",
    "cor_matrix = pickle.load(f)"
   ]
  },
  {
   "cell_type": "code",
   "execution_count": 18,
   "metadata": {},
   "outputs": [
    {
     "name": "stdout",
     "output_type": "stream",
     "text": [
      "171\n",
      "L6_CHANNEL_CTR_DTAIN_MINAMT\n",
      "CHANNEL_WEB_DOUTTA_AMT\n",
      "L3_CHANNEL_DAY_MSPOS_DEBIT_MINAM\n",
      "L6_CHANNEL_AUTO_DTAIN_AVGAMT\n",
      "L6_CHANNEL_CTR_STAIN_MINAMT\n",
      "L3_CHANNEL_WEB_DOUTTA_MAXAMT\n",
      "CUST_BUSINESS_FLAG\n",
      "L3_CHANNEL_AUTO_DTAIN_AVGAMT\n",
      "CHANNEL_TEL_SOUTTA_CNT\n",
      "L3_CHANNEL_CTR_OUT_MAX_AMT\n",
      "L3_CHANNEL_AUTO_TRANS_OUT_MAX_AM\n",
      "CHANNEL_CTR_DOUTTA_AMT\n",
      "L6_CHANNEL_TEL_STAIN_AVGAMT\n",
      "CHANNEL_OTHER_IN_MIN_AMT\n",
      "L6_CHANNEL_MOB_STAIN_AVGAMT\n",
      "L6_CUST_METAL_AVGAMT\n",
      "CHANNEL_OTRPOS_CREDIT_AMT\n",
      "L6_CHANNEL_SIGLE_MSPOS_CREDIT_MA\n",
      "L3_CHANNEL_CTR_DOUTTA_MINAMT\n",
      "L6_CHANNEL_AUTO_CASH_OUT_MAX_AMT\n",
      "CHANNEL_CTR_FUND_AMT\n",
      "L3_CHANNEL_TRANS_OUT_MIN_AMT\n",
      "L6_CHANNEL_SIGLE_OTRPOS_CREDIT_0\n",
      "CHANNEL_WEBBANK_FUND_CNT\n",
      "L3_CHANNEL_AUTO_TRANS_IN_MIN_AMT\n",
      "L6DEP_SA_CREDIT_AMT\n",
      "L3_CHANNEL_AUTO_CASH_IN_MAX_AMT\n",
      "L3_CHANNEL_CTR_FINANCIAL_MONTHAV\n",
      "CHANNEL_CTR_FINANCIAL_AMT\n",
      "CHANNEL_INTER_CREDIT_AMT\n",
      "CHANNEL_CTR_DOUTTA_CNT\n",
      "L3_CHANNEL_DAY_MSPOS_CREDIT_MINA\n",
      "L3_CHANNEL_CASH_IN_MIN_AMT\n",
      "L6_CHANNEL_MOBILE_IN_MIN_AMT\n",
      "L3_CHANNEL_INTER_OUT_MIN_AMT\n",
      "CHANNEL_TEL_DOUTTA_AMT\n",
      "L3_CHANNEL_CASH_OUT_MIN_AMT\n",
      "CHANNEL_AUTO_DTAIN_AMT\n",
      "L3_CHANNEL_SIGLE_MSPOS_CREDIT_MA\n",
      "CHANNEL_AUTO_DOUTTA_AMT\n",
      "L6_CUST_NADEBT_AVGAMT\n",
      "L6_CHANNEL_AUTO_CASH_OUT_MIN_AMT\n",
      "L3_CHANNEL_TEL_DTAIN_AVGAMT\n",
      "L6_CHANNEL_CASH_IN_MIN_AMT\n",
      "L3_CHANNEL_CTR_FINANCIAL_MONTHA0\n",
      "L3_CHANNEL_INTER_AVG_AMT\n",
      "L3_CHANNEL_WEB_SOUTTA_MAXAMT\n",
      "L3_CUST_ASSET_AVG_AMT\n",
      "CHANNEL_TEL_SOUTTA_AMT\n",
      "L3_CHANNEL_CASH_OUT_MAX_AMT\n",
      "L6_CHANNEL_DAY_MSPOS_CREDIT_MINA\n",
      "L6_CHANNEL_MOB_DTAIN_AVGCNT\n",
      "CHANNEL_MSPOS_CREDIT_CNT\n",
      "L6_DEP_SA_NEW_ACCOUNT_CNT\n",
      "L6_CHANNEL_SIGLE_OTRPOS_DEBIT_MA\n",
      "L6_CHANNEL_CASH_IN_MAX_AMT\n",
      "CUST_ASSET_AMT\n",
      "L3_CHANNEL_TELBANK_FUND_MONTHAVG\n",
      "L3_CHANNEL_WEB_SOUTTA_AVGAMT\n",
      "L3_CHANNEL_SIGLE_MSPOS_CREDIT_MI\n",
      "L3_DEP_SA_AVG_ACCOUNT_CNT\n",
      "L6_DEP_SA_NEW_AVG_BAL\n",
      "L3_CHANNEL_CTR_DTAIN_MINAMT\n",
      "L6_CHANNEL_AUTO_CASH_IN_MAX_AMT\n",
      "L3_CHANNEL_WEB_STAIN_AVGAMT\n",
      "L6_CUST_ASSET_AVG_AMT\n",
      "S_FUND_FLAG\n",
      "L3_CHANNEL_WEB_STAIN_MINAMT\n",
      "L6_CHANNEL_TEL_SOUTTA_AVGAMT\n",
      "DEP_SA_NEW_ACCOUNT_CNT\n",
      "CHANNEL_CTR_DEBIT_AMT\n",
      "L3_CHANNEL_AUTO_CASH_IN_MIN_AMT\n",
      "CHANNEL_WEB_DTAIN_AMT\n",
      "L3_DEP_SA_NEW_ACCOUNT_CNT\n",
      "L3_CHANNEL_WEB_STAIN_MAXAMT\n",
      "L3_CUST_METAL_AVGAMT\n",
      "L6_CHANNEL_CTR_FUND_MONTHAVG_CNT\n",
      "L3_CHANNEL_CTR_INSURE_MONTHAVG_C\n",
      "CHANNEL_WEBBANK_FUND_AMT\n",
      "L6_CHANNEL_TEL_DTAIN_AVGCNT\n",
      "L6_CHANNEL_TEL_SOUTTA_AVGCNT\n",
      "L3_CHANNEL_MSPOS_CREDIT_AVG_CNT\n",
      "CHANNEL_DAY_MSPOS_CREDIT_MAXAMT\n",
      "L3_CHANNEL_TEL_SOUTTA_AVGAMT\n",
      "CHANNEL_AUTO_CREDIT_AMT\n",
      "L3_CHANNEL_TEL_DOUTTA_AVGAMT\n",
      "L3_DEP_SA_FGCR_NEW_AVG_BAL\n",
      "L6_CHANNEL_TEL_DTAIN_AVGAMT\n",
      "L6_CHANNEL_SIGLE_MSPOS_CREDIT_MI\n",
      "CHANNEL_TELBANK_FUND_CNT\n",
      "L6_CHANNEL_CTR_FINANCIAL_MONTHA0\n",
      "L6_CHANNEL_WEB_DOUTTA_MAXAMT\n",
      "CHANNEL_TEL_DOUTTA_CNT\n",
      "L3_CUST_PRIDEPT_AVGAMT\n",
      "L3_CHANNEL_TEL_DOUTTA_AVGCNT\n",
      "L6_CHANNEL_AUTO_CASH_IN_MIN_AMT\n",
      "L3_CHANNEL_OTHER_IN_MIN_AMT\n",
      "L6_CHANNEL_OTHER_IN_MIN_AMT\n",
      "L6_CHANNEL_WEB_SOUTTA_AVGAMT\n",
      "CHANNEL_CTR_SOUTTA_AMT\n",
      "L6_CHANNEL_DAY_MSPOS_DEBIT_MINAM\n",
      "L3_CHANNEL_TEL_STAIN_AVGAMT\n",
      "L3_CUST_DIFF_OUT_AMT\n",
      "L6_CHANNEL_TELBANK_FUND_MONTHAVG\n",
      "CHANNEL_DAY_OTRPOS_CREDIT_MAXAMT\n",
      "L3_CHANNEL_AUTO_CASH_OUT_MAX_AMT\n",
      "L3_CHANNEL_MSPOS_CREDIT_AVG_AMT\n",
      "CUST_METAL_AMT\n",
      "L3_CHANNEL_CASH_IN_MAX_AMT\n",
      "DEP_SA_ACCOUNT_CNT\n",
      "L3_CHANNEL_AUTO_CASH_OUT_MIN_AMT\n",
      "L6_CHANNEL_WEB_STAIN_MAXAMT\n",
      "CHANNEL_DAY_OTRPOS_DEBIT_MINAMT\n",
      "L6_CHANNEL_CTR_DOUTTA_MINAMT\n",
      "L6_CHANNEL_WEB_STAIN_AVGAMT\n",
      "L6_CUST_PRIDEPT_AVGAMT\n",
      "L3_CUST_NADEBT_AVGAMT\n",
      "L3_CHANNEL_MOBILE_OUT_MIN_AMT\n",
      "L6_CHANNEL_DAY_OTRPOS_DEBIT_MAXA\n",
      "CUST_INFINIT_FLAG\n",
      "L6_CHANNEL_CTR_FINANCIAL_MONTHAV\n",
      "CUST_DIFF_OUT_AMT\n",
      "L6_CHANNEL_CASH_OUT_MIN_AMT\n",
      "D_FUND_FLAG\n",
      "L3_CHANNEL_CTR_FUND_MONTHAVG_AMT\n",
      "L6_CHANNEL_OTRPOS_DEBIT_AVG_AMT\n",
      "L6_CHANNEL_TEL_DOUTTA_AVGAMT\n",
      "CHANNEL_TEL_DTAIN_CNT\n",
      "L3_CHANNEL_WEB_DTAIN_MINAMT\n",
      "L3_CHANNEL_TEL_DTAIN_AVGCNT\n",
      "L3_CHANNEL_WEB_DOUTTA_AVGAMT\n",
      "L3_CHANNEL_TEL_SOUTTA_AVGCNT\n",
      "CUST_PLATINUM_FINANCIAL_FLAG\n",
      "L3_CHANNEL_SIGLE_OTRPOS_CREDIT_0\n",
      "OS_PRCP_SUM_SIX\n",
      "L6_CHANNEL_CTR_OUT_MAX_AMT\n",
      "L3_CHANNEL_AUTO_AVG_AMT\n",
      "L6_CUST_DIFF_OUT_AMT\n",
      "L6_CHANNEL_WEBBANK_FUND_MONTHAVG\n",
      "L6_CHANNEL_TEL_STAIN_AVGCNT\n",
      "L6_CHANNEL_OTHER_OUT_MIN_AMT\n",
      "L6_CHANNEL_CASH_OUT_MAX_AMT\n",
      "L6_CHANNEL_WEB_DOUTTA_AVGAMT\n",
      "CHANNEL_CTR_FINANCIAL_CNT\n",
      "CER_BOND_FLAG\n",
      "CUST_SAME_OUT_AMT\n",
      "L6_CHANNEL_TELBANK_FUND_MONTHAV0\n",
      "L6_CHANNEL_CTR_FUND_MONTHAVG_AMT\n",
      "L3_CHANNEL_MOBILE_IN_MIN_AMT\n",
      "L3_CHANNEL_WEB_SOUTTA_MINAMT\n",
      "L6_CHANNEL_WEB_DTAIN_MINAMT\n",
      "L3_CHANNEL_TEL_STAIN_AVGCNT\n",
      "C_FUND_FLAG\n",
      "L6_CHANNEL_MSPOS_CREDIT_AVG_AMT\n",
      "CHANNEL_MOB_STAIN_CNT\n",
      "L3DEP_SA_CREDIT_AMT\n",
      "CHANNEL_OTRPOS_DEBIT_AMT\n",
      "L3_CHANNEL_DAY_OTRPOS_CREDIT_MAX\n",
      "CHANNEL_DAY_MSPOS_CREDIT_MINAMT\n",
      "L3_CHANNEL_OTRPOS_DEBIT_AVG_AMT\n",
      "CHANNEL_TEL_DTAIN_AMT\n",
      "L6_CHANNEL_MSPOS_CREDIT_AVG_CNT\n",
      "DEP_SA_NEW_BAL\n",
      "CHANNEL_AUTO_DOUTTA_CNT\n",
      "CHANNEL_MSPOS_CREDIT_AMT\n",
      "L6_CHANNEL_TRANS_OUT_MIN_AMT\n",
      "L3_CHANNEL_CTR_FUND_MONTHAVG_CNT\n",
      "L6_CHANNEL_INTER_AVG_AMT\n",
      "L3_CHANNEL_TELBANK_FUND_MONTHAV0\n",
      "CUST_NADEBT_AMT\n",
      "CHANNEL_OTRPOS_CREDIT_CNT\n"
     ]
    }
   ],
   "source": [
    "# 删除相关系数大于0.999的属性列或与目标列bad_good相关系数小于0.001的属性列(共171列)\n",
    "to_drop = set()\n",
    "for i in range(len(df.columns)):\n",
    "    for j in range(len(df.columns)):\n",
    "        if df.columns[i] != 'bad_good':\n",
    "            if j > i and abs(cor_matrix[df.columns[i]][df.columns[j]]) > 0.999:\n",
    "                to_drop.add(df.columns[j])\n",
    "        else:\n",
    "            if df.columns[j] != 'bad_good' and abs(cor_matrix[df.columns[i]][df.columns[j]]) < 0.001:\n",
    "                to_drop.add(df.columns[j])\n",
    "print(len(to_drop))\n",
    "for col in to_drop:\n",
    "    print(col)\n",
    "df.drop(to_drop, inplace=True, axis=1)\n",
    "df_test.drop(to_drop, inplace=True, axis=1)"
   ]
  },
  {
   "attachments": {},
   "cell_type": "markdown",
   "metadata": {},
   "source": [
    "### 异常值处理"
   ]
  },
  {
   "cell_type": "code",
   "execution_count": 23,
   "metadata": {},
   "outputs": [
    {
     "data": {
      "text/plain": [
       "Text(0.5, 1.0, 'Outlier rate of each column')"
      ]
     },
     "execution_count": 23,
     "metadata": {},
     "output_type": "execute_result"
    },
    {
     "data": {
      "image/png": "[encoded data removed]",
      "text/plain": [
       "<Figure size 640x480 with 1 Axes>"
      ]
     },
     "metadata": {},
     "output_type": "display_data"
    }
   ],
   "source": [
    "# 位于3 * sigma范围之外的数据占比应不超过0.003（前提是符合正态分布）\n",
    "outlier_rate = list()\n",
    "for col in df.columns:\n",
    "    mean = df[col].mean()\n",
    "    std = df[col].std()\n",
    "    upper_limit = mean + 3 * std\n",
    "    lower_limit = mean - 3 * std\n",
    "    condition = (df[col] > upper_limit)|(df[col] < lower_limit)\n",
    "    outlier_rate.append((col, len(df.loc[condition]) / len(df)))\n",
    "value = [item[1] for item in outlier_rate]\n",
    "sns.barplot(x=np.arange(len(outlier_rate)), y=value)\n",
    "plt.xticks(color = 'white')\n",
    "plt.title('Outlier rate of each column')"
   ]
  },
  {
   "cell_type": "code",
   "execution_count": 24,
   "metadata": {},
   "outputs": [
    {
     "data": {
      "text/plain": [
       "[('CUST_GOLD_COMMON_FLAG', 0.09529417950470583),\n",
       " ('DEP_SA_FLAG', 0.06100566100566101),\n",
       " ('CUST_INTERNATIONAL_DIAMOND_FLAG', 0.05608777187724556),\n",
       " ('FUND_FLAG', 0.0558388979441611),\n",
       " ('CUST_STAD_PLATINUM_FLAG', 0.05317139001349527),\n",
       " ('CUST_INTERNATIONAL_SIL_FLAG', 0.05254044201412623),\n",
       " ('LOAN_FLAG', 0.047850395218816275),\n",
       " ('L6_CHANNEL_AUTO_IN_MAX_AMT', 0.045817340554182656),\n",
       " ('L3_CHANNEL_AUTO_IN_MAX_AMT', 0.044257496889075834),\n",
       " ('LAST_OPEN_TENURE_DAYS', 0.041372662425294006),\n",
       " ('CUST_INTERNATIONAL_GOLD_FLAG', 0.03450233976549766),\n",
       " ('L3_CHANNEL_AUTO_OUT_MAX_AMT', 0.03202762150130571),\n",
       " ('DEP_SA_FGCR_ACCOUNT_CNT', 0.020267451846399213),\n",
       " ('L6_CUST_DEBT_AVG_AMT', 0.018988029514345302),\n",
       " ('CUST_DEBT_AMT', 0.018823281981176717),\n",
       " ('L3_CHANNEL_AUTO_OUT_MIN_AMT', 0.017975007448691658),\n",
       " ('RELATED_REPAY_FLAG', 0.017361585782638415),\n",
       " ('bad_good', 0.017119722382880277),\n",
       " ('L3_CUST_DEBT_AVG_AMT', 0.01697600644969066),\n",
       " ('L6_CHANNEL_CTR_STAIN_AVGCNT', 0.01499553078500447),\n",
       " ('CUST_ACCOUNT_OPEN_CNT', 0.01492192018507808),\n",
       " ('L3_CHANNEL_OTRPOS_DEBIT_AVG_CNT', 0.014886867518446466),\n",
       " ('L6_CHANNEL_OTRPOS_DEBIT_AVG_CNT', 0.01472211998527788),\n",
       " ('CHANNEL_AUTO_DEBIT_CNT', 0.014666035718667298),\n",
       " ('CHANNEL_OTRPOS_DEBIT_CNT', 0.014417161785582838),\n",
       " ('CUST_ACCOUNT_CNT', 0.013905392852761274),\n",
       " ('CUST_ACCOUNT_LOST_CNT', 0.013383108119950225),\n",
       " ('CHANNEL_MOBILE_DEBIT_CNT', 0.013106192053560475),\n",
       " ('L6_CHANNEL_AUTO_OUT_MIN_AMT', 0.012860823387139177),\n",
       " ('CHANNEL_MOB_DOUTTA_CNT', 0.01256988625409678),\n",
       " ('DEP_SA_LAST_TENURE_DAYS', 0.011679548521653784),\n",
       " ('L3_CHANNEL_MOB_DOUTTA_AVGCNT', 0.011378095588621904),\n",
       " ('L3_CHANNEL_CTR_STAIN_AVGCNT', 0.011129221655537445),\n",
       " ('L3DEP_SA_MOTH_MAX_OUT_AMT', 0.011125716388874284),\n",
       " ('L6_CHANNEL_MOB_DOUTTA_AVGCNT', 0.010894368789105631),\n",
       " ('L3DEP_SA_MOTH_MAX_IN_AMT', 0.010684052789315947),\n",
       " ('CHANNEL_OTHER_DEBIT_CNT', 0.010620957989379043),\n",
       " ('L6_CHANNEL_OTHER_IN_MAX_AMT', 0.010456210456210457),\n",
       " ('L6_CHANNEL_INTER_OUT_MAX_AMT', 0.01043868412289465),\n",
       " ('DEP_CARD_CUST_CNT', 0.010400126189599873),\n",
       " ('L6DEP_SA_MOTH_MAX_IN_AMT', 0.010298473456368194),\n",
       " ('L6DEP_SA_MOTH_MAX_OUT_AMT', 0.010207336523125997),\n",
       " ('L3DEP_SA_DAY_MAX_OUT_AMT', 0.010196820723136513),\n",
       " ('L6DEP_SA_DAY_MAX_IN_AMT', 0.010095167989904832),\n",
       " ('CHANNEL_AUTO_CREDIT_CNT', 0.009783199256883467),\n",
       " ('CHANNEL_AUTO_DTAIN_CNT', 0.009748146590251854),\n",
       " ('IDF_TYP_CD', 0.00973763079026237),\n",
       " ('LG_TXN_CNT', 0.009720104456946562),\n",
       " ('L6DEP_SA_DAY_MAX_OUT_AMT', 0.00971309392362024),\n",
       " ('L3DEP_SA_DAY_MAX_IN_AMT', 0.00959040959040959),\n",
       " ('L6_CHANNEL_AUTO_OUT_MAX_AMT', 0.00948875685717791),\n",
       " ('L3_DEP_CARD_CUST_CNT', 0.009478241057188426),\n",
       " ('CHANNEL_MOB_SOUTTA_CNT', 0.009425662057241005),\n",
       " ('DEP_SA_CREDIT_CNT', 0.009390609390609391),\n",
       " ('DEP_SA_MOTH_MAX_OUT_AMT', 0.00926091452407242),\n",
       " ('DEP_SA_MOTH_MAX_IN_AMT', 0.009134724924198609),\n",
       " ('CR_CNT', 0.009096166990903832),\n",
       " ('L6_DEP_CARD_CUST_CNT', 0.00908915645757751),\n",
       " ('L6_CHANNEL_CTR_IN_MAX_AMT', 0.009085651190914349),\n",
       " ('L3_CHANNEL_INTER_OUT_MAX_AMT', 0.009054103790945896),\n",
       " ('L6_CHANNEL_OTHER_OUT_MAX_AMT', 0.009012040590987959),\n",
       " ('L3_CHANNEL_MOBILE_AVG_CNT', 0.008934924724398408),\n",
       " ('L3_CHANNEL_OTHER_IN_MAX_AMT', 0.00866151392467182),\n",
       " ('L3_CHANNEL_CTR_IN_MAX_AMT', 0.008559861191440138),\n",
       " ('DR_CNT', 0.008545840124787494),\n",
       " ('DEP_SA_SUMACCOUNT_CNT', 0.008510787458155878),\n",
       " ('L3_CR_CNT', 0.008353050458313617),\n",
       " ('L3_LG_TXN_AVG_CNT', 0.008325008325008326),\n",
       " ('L6_DEP_SA_AVG_ACCOUNT_CNT', 0.008254902991745097),\n",
       " ('DEP_SA_DAY_MAX_OUT_AMT', 0.00823737665842929),\n",
       " ('DEP_SA_AVG_TENURE_DAYS', 0.008177787125155546),\n",
       " ('L3DEP_SA_CREDIT_CNT', 0.008167271325166063),\n",
       " ('DEP_SA_DAY_MAX_IN_AMT', 0.008104176525229156),\n",
       " ('L6_LG_TXN_AVG_CNT', 0.008065618591934382),\n",
       " ('L3_CHANNEL_MOB_SOUTTA_AVGCNT', 0.007977986925355346),\n",
       " ('L6_CHANNEL_CTR_SOUTTA_AVGCNT', 0.007932418458734249),\n",
       " ('CHANNEL_CTR_CREDIT_CNT', 0.007764165658902501),\n",
       " ('L3_CHANNEL_INTER_IN_MAX_AMT', 0.007718597192281402),\n",
       " ('L3_DR_CNT', 0.007581891792418108),\n",
       " ('L3_CHANNEL_OTHER_OUT_MAX_AMT', 0.0075678707257654625),\n",
       " ('CUST_INTERNATIONAL_COMMON_FLAG', 0.00756086019243914),\n",
       " ('L3_CHANNEL_AUTO_DOUTTA_AVGCNT', 0.007529312792470687),\n",
       " ('OPEN_ORG_NUM', 0.0074416811258916525),\n",
       " ('L6_CHANNEL_INTER_IN_MAX_AMT', 0.007375081059291586),\n",
       " ('CHANNEL_INTER_CREDIT_CNT', 0.007101670259564996),\n",
       " ('L6DEP_SA_CREDIT_CNT', 0.00705960705960706),\n",
       " ('L6_CHANNEL_MOB_SOUTTA_AVGCNT', 0.006796712059869954),\n",
       " ('L3_CHANNEL_AUTO_IN_MIN_AMT', 0.0066985645933014355),\n",
       " ('L3_CHANNEL_OTHER_AVG_CNT', 0.006624953993375046),\n",
       " ('L6_CHANNEL_OTHER_AVG_CNT', 0.006589901326743432),\n",
       " ('CHANNEL_CTR_SOUTTA_CNT', 0.006551343393448657),\n",
       " ('CHANNEL_CTR_DTAIN_CNT', 0.0065443328601223335),\n",
       " ('DEP_SA_OPEN_TENURE_DAYS', 0.006274427327058906),\n",
       " ('L6_CHANNEL_CTR_AVG_CNT', 0.006218343060448324),\n",
       " ('CHANNEL_OTHER_IN_MAX_AMT', 0.006197311460469355),\n",
       " ('CUST_FINA_AMT', 0.006148237727185096),\n",
       " ('L6_CHANNEL_AUTO_DOUTTA_AVGCNT', 0.006074627127258706),\n",
       " ('L6_CUST_AVG_AUM', 0.006036069193963931),\n",
       " ('L3_CHANNEL_CTR_AVG_CNT', 0.006036069193963931),\n",
       " ('DEP_SA_TRSP_DEP_AMT', 0.00598349019401651),\n",
       " ('L3_CHANNEL_CTR_DTAIN_AVGCNT', 0.005920395394079604),\n",
       " ('L3_CUST_FINA_AVGAMT', 0.005916890127416443),\n",
       " ('DEP_SA_TRSP_WITD_AMT', 0.0058783321941216675),\n",
       " ('L6_CHANNEL_WEB_DTAIN_MAXAMT', 0.005822247927511085),\n",
       " ('L3_CHANNEL_WEB_DTAIN_AVGCNT', 0.005710079394289921),\n",
       " ('L6DEP_SA_DEBIT_AMT', 0.005696058327637275),\n",
       " ('L6_CUST_FINA_AVGAMT', 0.0056750267276583066),\n",
       " ('L3_CUST_AVG_AUM', 0.0056469845943530154),\n",
       " ('L6_CHANNEL_AUTO_IN_MIN_AMT', 0.0056469845943530154),\n",
       " ('L6_CHANNEL_TRANS_IN_MAX_AMT', 0.005636468794363531),\n",
       " ('CUST_AUM', 0.00563296352770037),\n",
       " ('CHANNEL_MOB_DTAIN_CNT', 0.005618942461047724),\n",
       " ('G_OS_PRCP_SUM', 0.005611931927721401),\n",
       " ('DEP_SA_DEBIT_AMT', 0.005597910861068756),\n",
       " ('OS_PRCP_SUM_THREE', 0.005587395061079271),\n",
       " ('DEP_SA_CREDIT_AMT', 0.00558388979441611),\n",
       " ('L6_CHANNEL_WEB_DTAIN_AVGCNT', 0.005573373994426626),\n",
       " ('L3_CHANNEL_SIGLE_OTRPOS_DEBIT_MA', 0.005552342394447658),\n",
       " ('CUST_SAME_IN_CNT', 0.005471721261194946),\n",
       " ('LG_TXN_AMT', 0.005464710727868622),\n",
       " ('L3_CHANNEL_AUTO_AVG_CNT', 0.005454194927879138),\n",
       " ('L3_CHANNEL_CTR_SOUTTA_AVGCNT', 0.0054401738612264924),\n",
       " ('DR_AMT', 0.005429658061237009),\n",
       " ('CUST_SAME_OUT_CNT', 0.005398110661268556),\n",
       " ('L3_CHANNEL_CTR_DOUTTA_AVGCNT', 0.00538408959461591),\n",
       " ('CR_AMT', 0.005370068527963265),\n",
       " ('CHANNEL_WEB_SOUTTA_CNT', 0.005345531661321135),\n",
       " ('L6_CHANNEL_TRANS_OUT_MAX_AMT', 0.0053420263946579736),\n",
       " ('L3_DEP_CARD_CUST_AMT', 0.005303468461363198),\n",
       " ('CUST_PRODUCT_CNT', 0.0052894473947105525),\n",
       " ('L3_CHANNEL_WEB_DTAIN_MAXAMT', 0.005264910528068423),\n",
       " ('L6_CHANNEL_CTR_DTAIN_AVGCNT', 0.005250889461415777),\n",
       " ('L6_LG_TXN_AVG_AMT', 0.005247384194752616),\n",
       " ('L6_CHANNEL_CTR_DTAIN_AVGAMT', 0.0051632577948367425),\n",
       " ('L3_DEP_SA_NEW_AVG_BAL', 0.005142226194857774),\n",
       " ('L6_CUST_SAME_IN_CNT', 0.005100162994899837),\n",
       " ('CHANNEL_OTHER_CREDIT_CNT', 0.005093152461573514),\n",
       " ('CHANNEL_WEB_DTAIN_CNT', 0.0050861419282471915),\n",
       " ('L3DEP_SA_DEBIT_AMT', 0.00508263666158403),\n",
       " ('L3_CHANNEL_AUTO_DTAIN_AVGCNT', 0.005065110328268223),\n",
       " ('L6_CUST_SAVING_AVGAMT', 0.0050090260616576406),\n",
       " ('DEP_CARD_CUST_AMT', 0.004998510261668156),\n",
       " ('L6_DEP_CARD_CUST_AMT', 0.004987994461678672),\n",
       " ('L3_CHANNEL_CTR_IN_MIN_AMT', 0.004973973395026026),\n",
       " ('L3_CR_AMT', 0.004868815395131185),\n",
       " ('L3_DR_AMT', 0.004861804861804862),\n",
       " ('L3_DEP_SA_BAL', 0.00480572059519428),\n",
       " ('L3_LG_TXN_AVG_AMT', 0.004788194261878472),\n",
       " ('L3_DEP_SA_DAYAVG_BAL', 0.00475664686191002),\n",
       " ('DEP_SA_BAL', 0.0047531415952468585),\n",
       " ('CUST_SAVING_AMT', 0.004746131061920535),\n",
       " ('L3_CHANNEL_TRANS_IN_MAX_AMT', 0.004711078395288922),\n",
       " ('L3_CUST_SAVING_AVGAMT', 0.004697057328636276),\n",
       " ('L6_CHANNEL_WEB_DTAIN_AVGAMT', 0.004693552061973114),\n",
       " ('L6_DEP_SA_DAYAVG_BAL', 0.004686541528646792),\n",
       " ('L6_CHANNEL_CTR_DTAIN_MAXAMT', 0.004683036261983631),\n",
       " ('CHANNEL_INTER_DEBIT_AMT', 0.004679530995320469),\n",
       " ('L3_CHANNEL_DAY_OTRPOS_DEBIT_MAXA', 0.004633962528699371),\n",
       " ('L6_DEP_SA_BAL', 0.004619941462046725),\n",
       " ('L3_CHANNEL_TRANS_OUT_MAX_AMT', 0.004616436195383564),\n",
       " ('DEP_SA_DAYAVG_BAL', 0.004542825595457174),\n",
       " ('L6_CHANNEL_CTR_DOUTTA_AVGCNT', 0.004437667595562332),\n",
       " ('L3_CUST_SAME_IN_CNT', 0.00443065706223601),\n",
       " ('L3_CHANNEL_WEB_DTAIN_AVGAMT', 0.004353541195646459),\n",
       " ('L6_CHANNEL_WEB_SOUTTA_MAXAMT', 0.00433250959566749),\n",
       " ('L3_CHANNEL_CTR_DTAIN_AVGAMT', 0.004279930595720069),\n",
       " ('L6_CHANNEL_CTR_DOUTTA_MAXAMT', 0.004244877929088456),\n",
       " ('L6_CHANNEL_AUTO_AVG_AMT', 0.004097656729235677),\n",
       " ('CHANNEL_CTR_DEBIT_CNT', 0.0040871409292461925),\n",
       " ('L6_CHANNEL_AUTO_TRANS_IN_MAX_AMT', 0.00400651979599348),\n",
       " ('L6_CUST_SAME_OUT_AMT', 0.003988993462677673),\n",
       " ('L3_CHANNEL_CTR_DTAIN_MAXAMT', 0.003943424996056575),\n",
       " ('CHANNEL_OTHER_CREDIT_AMT', 0.003929403929403929),\n",
       " ('L6_CHANNEL_SIGLE_MSPOS_DEBIT_MAX', 0.0038663091294670244),\n",
       " ('CHANNEL_MOBILE_DEBIT_AMT', 0.003859298596140701),\n",
       " ('L6_CHANNEL_CTR_AVG_AMT', 0.003799709062866958),\n",
       " ('L6_CHANNEL_CTR_IN_MIN_AMT', 0.0037891932628774734),\n",
       " ('L6_CUST_DIFF_IN_AMT', 0.003768161662898505),\n",
       " ('L3_CHANNEL_OTHER_OUT_MIN_AMT', 0.003733108996266891),\n",
       " ('CHANNEL_MOB_DOUTTA_AMT', 0.0036524878630141786),\n",
       " ('L3_CHANNEL_MOB_DOUTTA_AVGAMT', 0.0036419720630246947),\n",
       " ('CHANNEL_OTHER_DEBIT_AMT', 0.0036244457297088875),\n",
       " ('L3_CHANNEL_WEB_DOUTTA_MINAMT', 0.003610424663056242),\n",
       " ('L3_CUST_DIFF_IN_AMT', 0.003603414129729919),\n",
       " ('L6_CHANNEL_MOB_DOUTTA_AVGAMT', 0.003592898329740435),\n",
       " ('L6_CHANNEL_WEB_DOUTTA_MINAMT', 0.003557845663108821),\n",
       " ('L3_CHANNEL_CTR_AVG_AMT', 0.003522792996477207),\n",
       " ('L3_CUST_SAME_OUT_AMT', 0.0034561929298771404),\n",
       " ('L3_CHANNEL_CTR_DOUTTA_MAXAMT', 0.0034246455299086877),\n",
       " ('CHANNEL_MOBILE_CREDIT_CNT', 0.003417634996582365),\n",
       " ('L6_CHANNEL_OTHER_AVG_AMT', 0.003407119196592881),\n",
       " ('L3_CHANNEL_AUTO_TRANS_IN_MAX_AMT', 0.003400108663266558),\n",
       " ('L6_CHANNEL_MSPOS_DEBIT_AVG_CNT', 0.003382582329950751),\n",
       " ('L3_CHANNEL_MSPOS_DEBIT_AVG_CNT', 0.0033755717966244283),\n",
       " ('L3_CHANNEL_SIGLE_MSPOS_DEBIT_MAX', 0.003358045463308621),\n",
       " ('L6_CHANNEL_CTR_SOUTTA_MAXAMT', 0.0033089717300243617),\n",
       " ('L6_CHANNEL_MOBILE_OUT_MAX_AMT', 0.0032914453967085545),\n",
       " ('L6_CHANNEL_AUTO_AVG_CNT', 0.0032634032634032634),\n",
       " ('L6_CUST_FOND_AVGAMT', 0.003259897996740102),\n",
       " ('CUST_DIAMOND_FLAG', 0.003242371663424295),\n",
       " ('CUST_FOND_AMT', 0.0032353611300979723),\n",
       " ('L3_CUST_FOND_AVGAMT', 0.003196803196803197),\n",
       " ('CHANNEL_CTR_STAIN_CNT', 0.0031792768634873896),\n",
       " ('CUST_DIFF_IN_AMT', 0.0031687610634979057),\n",
       " ('L3_CHANNEL_OTRPOS_CREDIT_AVG_CNT', 0.0031407189301926146),\n",
       " ('L6_CHANNEL_AUTO_DTAIN_AVGCNT', 0.00313020313020313),\n",
       " ('L3_CHANNEL_INTER_IN_MIN_AMT', 0.003119687330213646),\n",
       " ('L6_CHANNEL_INTER_IN_MIN_AMT', 0.0030285503969714497),\n",
       " ('L3_CHANNEL_OTHER_AVG_AMT', 0.003014529330318804),\n",
       " ('L3_CHANNEL_MOBILE_OUT_MAX_AMT', 0.0029934977303398354),\n",
       " ('L6_CHANNEL_MOBILE_IN_MAX_AMT', 0.00297947666368719),\n",
       " ('L6_CHANNEL_CTR_DOUTTA_AVGAMT', 0.0029654555970345443),\n",
       " ('L6_CHANNEL_DAY_MSPOS_DEBIT_MAXAM', 0.0029514345303818987),\n",
       " ('CHANNEL_WEB_SOUTTA_AMT', 0.002881329197118671),\n",
       " ('L3_CHANNEL_CTR_OUT_MIN_AMT', 0.002856792330476541),\n",
       " ('L3_CHANNEL_CTR_DOUTTA_AVGAMT', 0.0027481290639185378),\n",
       " ('L6_CUST_SAME_IN_AMT', 0.002744623797255376),\n",
       " ('CHANNEL_MSPOS_DEBIT_CNT', 0.002734107997265892),\n",
       " ('CHANNEL_DAY_OTRPOS_DEBIT_MAXAMT', 0.002716581663950085),\n",
       " ('CHANNEL_CTR_CREDIT_AMT', 0.0027095711306237623),\n",
       " ('L6_CHANNEL_MSPOS_DEBIT_AVG_AMT', 0.002699055330634278),\n",
       " ('L3_CHANNEL_DAY_MSPOS_DEBIT_MAXAM', 0.002681528997318471),\n",
       " ('L3_CHANNEL_MOBILE_IN_MAX_AMT', 0.002664002664002664),\n",
       " ('L3_CHANNEL_MOB_DTAIN_AVGCNT', 0.0026569921306763412),\n",
       " ('CUST_EUP_ACCT_FLAG', 0.002593897330739436),\n",
       " ('L3_CHANNEL_MOBILE_AVG_AMT', 0.002593897330739436),\n",
       " ('L6_CHANNEL_CTR_SOUTTA_AVGAMT', 0.002593897330739436),\n",
       " ('CHANNEL_WEB_STAIN_CNT', 0.002586886797413113),\n",
       " ('L3_CHANNEL_CTR_SOUTTA_MAXAMT', 0.0025798762640867902),\n",
       " ('L6_CUST_PRIFINA_AVGAMT', 0.002548328864118338),\n",
       " ('L3_CHANNEL_MSPOS_DEBIT_AVG_AMT', 0.002527297264139369),\n",
       " ('L6_CHANNEL_WEBBANK_FUND_MONTHAV0', 0.0024922445975077553),\n",
       " ('L3_CHANNEL_CTR_SOUTTA_AVGAMT', 0.002488739330844594),\n",
       " ('CUST_SAME_IN_AMT', 0.0024046129309287204),\n",
       " ('L6_CHANNEL_MOBILE_AVG_AMT', 0.0024046129309287204),\n",
       " ('L3_CUST_PRIFINA_AVGAMT', 0.002390591864276075),\n",
       " ('CUST_DIFF_IN_CNT', 0.0023239917976760082),\n",
       " ('L3_CUST_SAME_IN_AMT', 0.0023099707310233627),\n",
       " ('CUST_PRIFINA_AMT', 0.002295949664370717),\n",
       " ('CHANNEL_DAY_MSPOS_DEBIT_MAXAMT', 0.0022889391310443943),\n",
       " ('L3_CUST_SAME_OUT_CNT', 0.002271412797728587),\n",
       " ('L6_CHANNEL_AUTO_DOUTTA_AVGAMT', 0.002267907531065426),\n",
       " ('CHANNEL_MOBILE_CREDIT_AMT', 0.0021802758644863906),\n",
       " ('CHANNEL_CTR_DTAIN_AMT', 0.0021697600644969067),\n",
       " ('CHANNEL_MOB_SOUTTA_AMT', 0.0021592442645074223),\n",
       " ('L6_CHANNEL_CTR_STAIN_MAXAMT', 0.0021522337311810995),\n",
       " ('L6_CHANNEL_MOBILE_OUT_MIN_AMT', 0.002134707397865293),\n",
       " ('L3_CHANNEL_WEBBANK_FUND_MONTHAV0', 0.002120686331212647),\n",
       " ('CHANNEL_MOB_DTAIN_AMT', 0.002110170531223163),\n",
       " ('L6_CUST_DIFF_IN_CNT', 0.002085633664581033),\n",
       " ('L6_CHANNEL_CTR_OUT_MIN_AMT', 0.0020821283979178718),\n",
       " ('L6_CHANNEL_WEB_STAIN_AVGCNT', 0.002033054664633612),\n",
       " ('L6_CHANNEL_MOBILE_AVG_CNT', 0.0019874861980125136),\n",
       " ('CHANNEL_MSPOS_DEBIT_AMT', 0.0019524335313808997),\n",
       " ('L3_CHANNEL_MOB_STAIN_AVGCNT', 0.0019419177313914156),\n",
       " ('L3_CHANNEL_MOB_SOUTTA_AVGAMT', 0.001910370331422963),\n",
       " ('L6_CHANNEL_MOB_SOUTTA_AVGAMT', 0.0018963492647703173),\n",
       " ('L6_CHANNEL_MOB_STAIN_AVGCNT', 0.0018788229314545104),\n",
       " ('L6DEP_SA_FGCR_MOTH_MAX_OUT_AMT', 0.0018683071314650262),\n",
       " ('L6_CHANNEL_CTR_STAIN_AVGAMT', 0.0018507807981492192),\n",
       " ('L3_CHANNEL_CTR_STAIN_MAXAMT', 0.0018367597314965737),\n",
       " ('L3_CHANNEL_WEB_STAIN_AVGCNT', 0.0018192333981807665),\n",
       " ('L3_CUST_YBT_AVGAMT', 0.0018157281315176051),\n",
       " ('L6_CHANNEL_AUTO_TRANS_OUT_MAX_AM', 0.0018017070648649596),\n",
       " ('L3_CHANNEL_AUTO_DOUTTA_AVGAMT', 0.0017596438649070227),\n",
       " ('L6DEP_SA_FGCR_DAY_MAX_OUT_AMT', 0.0017561385982438613),\n",
       " ('L3_CUST_DIFF_IN_CNT', 0.0017421175315912158),\n",
       " ('L3_DEP_SA_FGCR_BAL', 0.001735106998264893),\n",
       " ('L6_DEP_SA_FGCR_BAL', 0.0017070648649596019),\n",
       " ('L6DEP_SA_FGCR_MOTH_MAX_IN_AMT', 0.001682527998317472),\n",
       " ('CHANNEL_WEB_STAIN_AMT', 0.0016685069316648264),\n",
       " ('L6DEP_SA_FGCR_DAY_MAX_IN_AMT', 0.0016194331983805667),\n",
       " ('L3_CHANNEL_TRANS_IN_MIN_AMT', 0.0016054121317279212),\n",
       " ('L3DEP_SA_FGCR_MOTH_MAX_OUT_AMT', 0.0015738647317594687),\n",
       " ('L6_CHANNEL_TRANS_IN_MIN_AMT', 0.0015563383984436615),\n",
       " ('L3_CHANNEL_WEB_SOUTTA_AVGCNT', 0.0014862330651804335),\n",
       " ('L3_CHANNEL_CTR_STAIN_AVGAMT', 0.0014511803985488196),\n",
       " ('CUST_AU_ACCT_FLAG', 0.001437159331896174),\n",
       " ('L6_CHANNEL_WEB_STAIN_MINAMT', 0.0014231382652435283),\n",
       " ('L3DEP_SA_FGCR_MOTH_MAX_IN_AMT', 0.0013986013986013986),\n",
       " ('L6_CHANNEL_CTR_INSURE_MONTHAVG_C', 0.001384580331948753),\n",
       " ('CUST_YBT_AMT', 0.0013635487319697845),\n",
       " ('CHANNEL_MOB_STAIN_AMT', 0.0013565381986434617),\n",
       " ('L6_CHANNEL_INTER_OUT_MIN_AMT', 0.001349527665317139),\n",
       " ('L6_CHANNEL_WEB_SOUTTA_MINAMT', 0.0012899381320433951),\n",
       " ('L3DEP_SA_FGCR_DAY_MAX_OUT_AMT', 0.0012829275987170723),\n",
       " ('L3_CHANNEL_MOB_DTAIN_AVGAMT', 0.0012759170653907496),\n",
       " ('CHANNEL_WEB_DOUTTA_CNT', 0.0012583907320749426),\n",
       " ('L6_CHANNEL_TEL_DOUTTA_AVGCNT', 0.0012583907320749426),\n",
       " ('L3_CHANNEL_SIGLE_MSPOS_DEBIT_MIN', 0.0011707590654959077),\n",
       " ('L6_CHANNEL_WEB_DOUTTA_AVGCNT', 0.001156737998843262),\n",
       " ('L3_CHANNEL_WEB_DOUTTA_AVGCNT', 0.0011497274655169391),\n",
       " ('L6_CUST_SAME_OUT_CNT', 0.0011427169321906164),\n",
       " ('L6_CUST_YBT_AVGAMT', 0.001139211665527455),\n",
       " ('L6_CHANNEL_MOB_DTAIN_AVGAMT', 0.0011251905988748094),\n",
       " ('L3DEP_SA_FGCR_DAY_MAX_IN_AMT', 0.0011076642655590025),\n",
       " ('L6_CHANNEL_SIGLE_MSPOS_DEBIT_MIN', 0.0010656010656010656),\n",
       " ('L6_DEP_SA_FGCR_NEW_AVG_BAL', 0.0010200325989799673),\n",
       " ('CUST_LUXURY_PLATINUM_FLAG', 0.0009534325323799008),\n",
       " ('CHANNEL_CTR_STAIN_AMT', 0.0009499272657167395),\n",
       " ('L3_CHANNEL_SIGLE_OTRPOS_DEBIT_MI', 0.0009394114657272552),\n",
       " ('L3_CHANNEL_AUTO_TRANS_OUT_MIN_AM', 0.0009183798657482868),\n",
       " ('L3_CHANNEL_MOB_STAIN_AVGAMT', 0.0009183798657482868),\n",
       " ('L3_CHANNEL_INTER_AVG_CNT', 0.0008973482657693184),\n",
       " ('L3DEP_SA_DEBIT_CNT', 0.0008693061324640272),\n",
       " ('BOND_FLAG', 0.0008658008658008658),\n",
       " ('CHANNEL_DAY_MSPOS_DEBIT_MINAMT', 0.0008027060658639606),\n",
       " ('L6_CHANNEL_SIGLE_OTRPOS_DEBIT_MI', 0.000788684999211315),\n",
       " ('L6_CHANNEL_WEBBANK_FINANCIAL_MO0', 0.0007816744658849921),\n",
       " ('DEP_SA_FGCR_TRSP_WITD_AMT', 0.0007326007326007326),\n",
       " ('DEP_SA_FGCR_DAY_MAX_OUT_AMT', 0.0007290954659375712),\n",
       " ('DEP_SA_FGCR_MOTH_MAX_OUT_AMT', 0.0007255901992744098),\n",
       " ('DEP_SA_FGCR_NEW_BAL', 0.0006905375326427958),\n",
       " ('L3_CHANNEL_WEBBANK_FUND_MONTHAVG', 0.0006870322659796344),\n",
       " ('L6_CHANNEL_OTRPOS_CREDIT_AVG_CNT', 0.0006730111993269888),\n",
       " ('DEP_SA_FGCR_TRSP_DEP_AMT', 0.0006695059326638274),\n",
       " ('DEP_SA_FGCR_DAY_MAX_IN_AMT', 0.000666000666000666),\n",
       " ('DEP_SA_FGCR_MOTH_MAX_IN_AMT', 0.000648474332684859),\n",
       " ('DEP_SA_DEBIT_CNT', 0.0006449690660216976),\n",
       " ('L3_CUST_DIFF_OUT_CNT', 0.000630947999369052),\n",
       " ('L6_CHANNEL_AUTO_TRANS_IN_MIN_AMT', 0.0006274427327058906),\n",
       " ('L6_CHANNEL_AUTO_TRANS_OUT_MIN_AM', 0.0006274427327058906),\n",
       " ('L6_CHANNEL_INTER_AVG_CNT', 0.0006064111327269222),\n",
       " ('L3_CHANNEL_WEBBANK_FINANCIAL_MO0', 0.0005923900660742766),\n",
       " ('L3_CHANNEL_CTR_SOUTTA_MINAMT', 0.0005888847994111152),\n",
       " ('CHANNEL_AUTO_DEBIT_AMT', 0.0005678531994321468),\n",
       " ('CHANNEL_INTER_DEBIT_CNT', 0.0005503268661163399),\n",
       " ('CHANNEL_CTR_INSURE_CNT', 0.0005328005328005328),\n",
       " ('L6_CHANNEL_WEB_SOUTTA_AVGCNT', 0.0005328005328005328),\n",
       " ('L6_CHANNEL_CTR_INSURE_MONTHAVG_A', 0.0005047583994952416),\n",
       " ('CUST_DIFF_OUT_CNT', 0.0004346530662320136),\n",
       " ('L6_CHANNEL_WEBBANK_FINANCIAL_MON', 0.0003996003996003996),\n",
       " ('L3_CHANNEL_CTR_INSURE_MONTHAVG_A', 0.0003925898662740768),\n",
       " ('L6_CHANNEL_CTR_SOUTTA_MINAMT', 0.00035052666631614),\n",
       " ('L3_CHANNEL_WEBBANK_FINANCIAL_MON', 0.0003224845330108488),\n",
       " ('L6DEP_SA_DEBIT_CNT', 0.0002699055330634278),\n",
       " ('L3_CHANNEL_CTR_STAIN_MINAMT', 0.00017526333315807),\n",
       " ('L6_CUST_DIFF_OUT_CNT', 0.0001717580664949086),\n",
       " ('L6_CHANNEL_SIGLE_OTRPOS_CREDIT_M', 0.0001717580664949086),\n",
       " ('guozhai_flag', 0.0001647475331685858),\n",
       " ('L6_CHANNEL_OTRPOS_CREDIT_AVG_AMT', 0.0001647475331685858),\n",
       " ('L6_CHANNEL_DAY_OTRPOS_DEBIT_MINA', 0.0001647475331685858),\n",
       " ('L3_CHANNEL_SIGLE_OTRPOS_CREDIT_M', 0.000157736999842263),\n",
       " ('CHANNEL_WEBBANK_FINANCIAL_CNT', 0.0001472211998527788),\n",
       " ('L3_CHANNEL_OTRPOS_CREDIT_AVG_AMT', 0.0001296948665369718),\n",
       " ('L3_CHANNEL_DAY_OTRPOS_DEBIT_MINA', 0.0001261895998738104),\n",
       " ('CHANNEL_TELBANK_FUND_AMT', 0.000105157999894842),\n",
       " ('CHANNEL_CTR_FUND_CNT', 0.0001016527332316806),\n",
       " ('CHANNEL_CTR_INSURE_AMT', 8.7631666579035e-05),\n",
       " ('CHANNEL_WEBBANK_FINANCIAL_AMT', 7.36105999263894e-05),\n",
       " ('GENDER', 0.0),\n",
       " ('CUST_SALARY_FINANCIAL_FLAG', 0.0),\n",
       " ('CUST_DOLLER_FLAG', 0.0),\n",
       " ('DEP_TD_FLAG', 0.0),\n",
       " ('CRED_FLAG', 0.0),\n",
       " ('TOT_REPAY_FLAG', 0.0)]"
      ]
     },
     "execution_count": 24,
     "metadata": {},
     "output_type": "execute_result"
    }
   ],
   "source": [
    "# 观察发现，大部分异常值率较高的列均为FLAG类的属性列\n",
    "# 另外考虑到金融数据中确实常有违背正态分布这一假设的数据（如CUST_DEBT_AMT：负债总额）\n",
    "# 值得注意的是，目标列bad_good的异常值率也达到了0.017的水平\n",
    "# 综上，本实验未根据异常值率进行数据处理\n",
    "outlier_rate.sort(key=lambda item: item[1], reverse=True)\n",
    "outlier_rate"
   ]
  },
  {
   "cell_type": "code",
   "execution_count": 28,
   "metadata": {},
   "outputs": [
    {
     "data": {
      "text/plain": [
       "CUST_DEBT_AMT\n",
       "0.00          265957\n",
       "2014466.67        25\n",
       "3021000.00        22\n",
       "2014000.00        22\n",
       "1007000.00        20\n",
       "               ...  \n",
       "507898.94          1\n",
       "954600.32          1\n",
       "1126387.96         1\n",
       "61457.55           1\n",
       "2014850.00         1\n",
       "Name: count, Length: 16081, dtype: int64"
      ]
     },
     "execution_count": 28,
     "metadata": {},
     "output_type": "execute_result"
    }
   ],
   "source": [
    "df['CUST_DEBT_AMT'].value_counts()"
   ]
  },
  {
   "cell_type": "markdown",
   "metadata": {},
   "source": [
    "### 写入处理后的数据"
   ]
  },
  {
   "cell_type": "code",
   "execution_count": 32,
   "metadata": {},
   "outputs": [
    {
     "name": "stdout",
     "output_type": "stream",
     "text": [
      "<class 'pandas.core.frame.DataFrame'>\n",
      "RangeIndex: 285285 entries, 0 to 285284\n",
      "Columns: 356 entries, OPEN_ORG_NUM to L6_CHANNEL_AUTO_DOUTTA_AVGCNT\n",
      "dtypes: float64(260), int64(96)\n",
      "memory usage: 774.9 MB\n",
      "<class 'pandas.core.frame.DataFrame'>\n",
      "RangeIndex: 189766 entries, 0 to 189765\n",
      "Columns: 355 entries, OPEN_ORG_NUM to L6_CHANNEL_AUTO_DOUTTA_AVGCNT\n",
      "dtypes: float64(259), int64(96)\n",
      "memory usage: 514.0 MB\n"
     ]
    }
   ],
   "source": [
    "df.info()\n",
    "df_test.info()"
   ]
  },
  {
   "cell_type": "code",
   "execution_count": 33,
   "metadata": {},
   "outputs": [],
   "source": [
    "# 将DataFrame写入CSV文件\n",
    "df.to_csv('data/processed.csv', mode='w', index=False)\n",
    "df_test.to_csv('data/processed_test.csv', mode='w', index=False)"
   ]
  }
 ],
 "metadata": {
  "kernelspec": {
   "display_name": "Python 3",
   "language": "python",
   "name": "python3"
  },
  "language_info": {
   "codemirror_mode": {
    "name": "ipython",
    "version": 3
   },
   "file_extension": ".py",
   "mimetype": "text/x-python",
   "name": "python",
   "nbconvert_exporter": "python",
   "pygments_lexer": "ipython3",
   "version": "3.9.6"
  },
  "orig_nbformat": 4
 },
 "nbformat": 4,
 "nbformat_minor": 2
}
